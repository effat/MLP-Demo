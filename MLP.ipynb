{
  "nbformat": 4,
  "nbformat_minor": 0,
  "metadata": {
    "colab": {
      "provenance": [],
      "authorship_tag": "ABX9TyN2e5t8qbZMaQ5nIuMld8v5",
      "include_colab_link": true
    },
    "kernelspec": {
      "name": "python3",
      "display_name": "Python 3"
    },
    "language_info": {
      "name": "python"
    }
  },
  "cells": [
    {
      "cell_type": "markdown",
      "metadata": {
        "id": "view-in-github",
        "colab_type": "text"
      },
      "source": [
        "<a href=\"https://colab.research.google.com/github/effat/MLP-Demo/blob/main/MLP.ipynb\" target=\"_parent\"><img src=\"https://colab.research.google.com/assets/colab-badge.svg\" alt=\"Open In Colab\"/></a>"
      ]
    },
    {
      "cell_type": "markdown",
      "source": [
        "# **Load Libraries**"
      ],
      "metadata": {
        "id": "8tmLS9xKl-lV"
      }
    },
    {
      "cell_type": "code",
      "execution_count": 1,
      "metadata": {
        "id": "zkCsj1CblxpH"
      },
      "outputs": [],
      "source": [
        "import numpy as np\n",
        "import matplotlib\n",
        "import matplotlib.pyplot as plt\n",
        "from sklearn import datasets\n",
        "from sklearn.model_selection import train_test_split, validation_curve\n",
        "from sklearn.metrics import confusion_matrix\n",
        "import seaborn as sns\n"
      ]
    },
    {
      "cell_type": "markdown",
      "source": [
        "To ensure we get reproducible results (on your local machine) we set the random seed for Python, Numpy and TensorFlow. This will ensure the SAME random initialization of weight matrices each tiem you execute your code.\n",
        "In Colab, results might not be reproducable."
      ],
      "metadata": {
        "id": "jy28a55AOdxm"
      }
    },
    {
      "cell_type": "code",
      "source": [
        "seed=1234\n",
        "import os\n",
        "os.environ['PYTHONHASHSEED'] = str(seed)\n",
        "# For working on GPUs from \"TensorFlow Determinism\"\n",
        "os.environ['CUDA_VISBLE_DEVICE'] = ''\n",
        "import numpy as np\n",
        "np.random.seed(seed)\n",
        "import random\n",
        "random.seed(seed)\n",
        "import tensorflow as tf\n",
        "tf.random.set_seed(seed)\n"
      ],
      "metadata": {
        "id": "OAuVpvI7N_Bm"
      },
      "execution_count": 2,
      "outputs": []
    },
    {
      "cell_type": "markdown",
      "source": [
        "# **Import Dataset**"
      ],
      "metadata": {
        "id": "NJezDcICmrLb"
      }
    },
    {
      "cell_type": "markdown",
      "source": [],
      "metadata": {
        "id": "JljZHerpqfvj"
      }
    },
    {
      "cell_type": "code",
      "source": [
        "\n",
        "digits = datasets.load_digits()"
      ],
      "metadata": {
        "id": "eAX7nJtzmtBW"
      },
      "execution_count": 3,
      "outputs": []
    },
    {
      "cell_type": "code",
      "source": [
        "#scikit-learn's datasets module, does not have an attribute named 'columns'. Bunch objects are similar to dictionaries and are commonly used in scikit-learn to store datasets. They usually have attributes like 'data', 'target', 'feature_names',\n",
        "#and 'DESCR', but not 'columns'.\n"
      ],
      "metadata": {
        "id": "Qcx4GH3Vm0AP"
      },
      "execution_count": null,
      "outputs": []
    },
    {
      "cell_type": "code",
      "source": [
        "### print dictionary entries of the scikit-learn's datasets module: digits dataset\n",
        "for key in digits.keys():\n",
        "    print(key)"
      ],
      "metadata": {
        "colab": {
          "base_uri": "https://localhost:8080/"
        },
        "id": "1u5zyIwXpj-v",
        "outputId": "a01805f4-a5b8-48d3-80c5-f4b36be9242e"
      },
      "execution_count": 4,
      "outputs": [
        {
          "output_type": "stream",
          "name": "stdout",
          "text": [
            "data\n",
            "target\n",
            "frame\n",
            "feature_names\n",
            "target_names\n",
            "images\n",
            "DESCR\n"
          ]
        }
      ]
    },
    {
      "cell_type": "code",
      "source": [
        "digits.DESCR"
      ],
      "metadata": {
        "colab": {
          "base_uri": "https://localhost:8080/",
          "height": 139
        },
        "id": "_5DFoHDAqV4h",
        "outputId": "f612f419-b082-4b94-a89b-4113fcbe1c62"
      },
      "execution_count": 5,
      "outputs": [
        {
          "output_type": "execute_result",
          "data": {
            "text/plain": [
              "\".. _digits_dataset:\\n\\nOptical recognition of handwritten digits dataset\\n--------------------------------------------------\\n\\n**Data Set Characteristics:**\\n\\n    :Number of Instances: 1797\\n    :Number of Attributes: 64\\n    :Attribute Information: 8x8 image of integer pixels in the range 0..16.\\n    :Missing Attribute Values: None\\n    :Creator: E. Alpaydin (alpaydin '@' boun.edu.tr)\\n    :Date: July; 1998\\n\\nThis is a copy of the test set of the UCI ML hand-written digits datasets\\nhttps://archive.ics.uci.edu/ml/datasets/Optical+Recognition+of+Handwritten+Digits\\n\\nThe data set contains images of hand-written digits: 10 classes where\\neach class refers to a digit.\\n\\nPreprocessing programs made available by NIST were used to extract\\nnormalized bitmaps of handwritten digits from a preprinted form. From a\\ntotal of 43 people, 30 contributed to the training set and different 13\\nto the test set. 32x32 bitmaps are divided into nonoverlapping blocks of\\n4x4 and the number of on pixels are counted in each block. This generates\\nan input matrix of 8x8 where each element is an integer in the range\\n0..16. This reduces dimensionality and gives invariance to small\\ndistortions.\\n\\nFor info on NIST preprocessing routines, see M. D. Garris, J. L. Blue, G.\\nT. Candela, D. L. Dimmick, J. Geist, P. J. Grother, S. A. Janet, and C.\\nL. Wilson, NIST Form-Based Handprint Recognition System, NISTIR 5469,\\n1994.\\n\\n|details-start|\\n**References**\\n|details-split|\\n\\n- C. Kaynak (1995) Methods of Combining Multiple Classifiers and Their\\n  Applications to Handwritten Digit Recognition, MSc Thesis, Institute of\\n  Graduate Studies in Science and Engineering, Bogazici University.\\n- E. Alpaydin, C. Kaynak (1998) Cascading Classifiers, Kybernetika.\\n- Ken Tang and Ponnuthurai N. Suganthan and Xi Yao and A. Kai Qin.\\n  Linear dimensionalityreduction using relevance weighted LDA. School of\\n  Electrical and Electronic Engineering Nanyang Technological University.\\n  2005.\\n- Claudio Gentile. A New Approximate Maximal Margin Classification\\n  Algorithm. NIPS. 2000.\\n\\n|details-end|\""
            ],
            "application/vnd.google.colaboratory.intrinsic+json": {
              "type": "string"
            }
          },
          "metadata": {},
          "execution_count": 5
        }
      ]
    },
    {
      "cell_type": "markdown",
      "source": [
        "# **Dataset Features**"
      ],
      "metadata": {
        "id": "XRmuZZXHqwVj"
      }
    },
    {
      "cell_type": "code",
      "source": [
        "X = digits['images']\n",
        "y = digits['target']\n",
        "target_names = digits['target_names']"
      ],
      "metadata": {
        "id": "ZHe--EHunndl"
      },
      "execution_count": 6,
      "outputs": []
    },
    {
      "cell_type": "markdown",
      "source": [
        "# **Print Dimensions of Input Matrices and Visualize**"
      ],
      "metadata": {
        "id": "Mzy1H8Qwq9xK"
      }
    },
    {
      "cell_type": "code",
      "source": [
        "print('Images (x) Shape : ',{X.shape})\n",
        "print('Target (y) Shape : ',{y.shape})\n",
        "print(\"Target name size\", len(target_names))"
      ],
      "metadata": {
        "colab": {
          "base_uri": "https://localhost:8080/"
        },
        "id": "p5ZylrekrCGr",
        "outputId": "bcde87cf-a5e4-4eae-b855-0d0345ba3c74"
      },
      "execution_count": 7,
      "outputs": [
        {
          "output_type": "stream",
          "name": "stdout",
          "text": [
            "Images (x) Shape :  {(1797, 8, 8)}\n",
            "Target (y) Shape :  {(1797,)}\n",
            "Target name size 10\n"
          ]
        }
      ]
    },
    {
      "cell_type": "code",
      "source": [
        "import matplotlib.pyplot as plt\n",
        "### display first five images with true labels\n",
        "for i in range(5):\n",
        "    plt.subplot(1, 5, i + 1)\n",
        "    plt.imshow(X[i] , cmap='gray')\n",
        "    plt.title(\"Label = \"+ str(y[i]))\n"
      ],
      "metadata": {
        "colab": {
          "base_uri": "https://localhost:8080/",
          "height": 168
        },
        "id": "JWlLKrZMr0kb",
        "outputId": "b9ee99af-7c7b-4a3c-aeaf-028054d75ccb"
      },
      "execution_count": 8,
      "outputs": [
        {
          "output_type": "display_data",
          "data": {
            "text/plain": [
              "<Figure size 640x480 with 5 Axes>"
            ],
            "image/png": "[encoded data removed]"
          },
          "metadata": {}
        }
      ]
    },
    {
      "cell_type": "code",
      "source": [
        "n_samples = len(X)\n",
        "print(n_samples)\n",
        "print(X.shape[0])"
      ],
      "metadata": {
        "colab": {
          "base_uri": "https://localhost:8080/"
        },
        "id": "yoKHGplpvNK6",
        "outputId": "ecc203bf-4734-4252-f750-574c7e9e579d"
      },
      "execution_count": 9,
      "outputs": [
        {
          "output_type": "stream",
          "name": "stdout",
          "text": [
            "1797\n",
            "1797\n"
          ]
        }
      ]
    },
    {
      "cell_type": "markdown",
      "source": [
        "# **Reshape and Scale the Input Matrix**\n",
        "\n",
        "Flatten each input image (a 2D array) to a 1D array. In Python, this can be done by reshape operation.\n",
        "\n",
        "Reshaping the Input\n",
        "The -1 is a placeholder that means “adjust this dimension to make the data fit”"
      ],
      "metadata": {
        "id": "oEdUJs0NusOk"
      }
    },
    {
      "cell_type": "code",
      "source": [
        "\n",
        "X = X.reshape((n_samples, -1))\n",
        "print(f\"After reshape and before scaling= {X.shape}\")\n",
        "print(X[0])"
      ],
      "metadata": {
        "colab": {
          "base_uri": "https://localhost:8080/"
        },
        "id": "4uL6dFjouqKj",
        "outputId": "f775a799-f291-414e-90bf-f6ebccf0a0d5"
      },
      "execution_count": 10,
      "outputs": [
        {
          "output_type": "stream",
          "name": "stdout",
          "text": [
            "After reshape and before scaling= (1797, 64)\n",
            "[ 0.  0.  5. 13.  9.  1.  0.  0.  0.  0. 13. 15. 10. 15.  5.  0.  0.  3.\n",
            " 15.  2.  0. 11.  8.  0.  0.  4. 12.  0.  0.  8.  8.  0.  0.  5.  8.  0.\n",
            "  0.  9.  8.  0.  0.  4. 11.  0.  1. 12.  7.  0.  0.  2. 14.  5. 10. 12.\n",
            "  0.  0.  0.  0.  6. 13. 10.  0.  0.  0.]\n"
          ]
        }
      ]
    },
    {
      "cell_type": "markdown",
      "source": [
        "We have to \"Normalize\" to scale the features. From digits.DESCR, we know that each entry of the input image matrix is an intiger in the range of 0...16. Scale the input [0-1] by dividing 15. This is called the min-max normalization"
      ],
      "metadata": {
        "id": "9WliNZSwRsHt"
      }
    },
    {
      "cell_type": "code",
      "source": [
        "X = X / 15.0\n",
        "print(\"After scaling\", X[0])"
      ],
      "metadata": {
        "colab": {
          "base_uri": "https://localhost:8080/"
        },
        "id": "J1lr95acRxvO",
        "outputId": "07c8ea4e-1433-45a1-8539-29feaabb4d14"
      },
      "execution_count": 11,
      "outputs": [
        {
          "output_type": "stream",
          "name": "stdout",
          "text": [
            "After scaling [0.         0.         0.33333333 0.86666667 0.6        0.06666667\n",
            " 0.         0.         0.         0.         0.86666667 1.\n",
            " 0.66666667 1.         0.33333333 0.         0.         0.2\n",
            " 1.         0.13333333 0.         0.73333333 0.53333333 0.\n",
            " 0.         0.26666667 0.8        0.         0.         0.53333333\n",
            " 0.53333333 0.         0.         0.33333333 0.53333333 0.\n",
            " 0.         0.6        0.53333333 0.         0.         0.26666667\n",
            " 0.73333333 0.         0.06666667 0.8        0.46666667 0.\n",
            " 0.         0.13333333 0.93333333 0.33333333 0.66666667 0.8\n",
            " 0.         0.         0.         0.         0.4        0.86666667\n",
            " 0.66666667 0.         0.         0.        ]\n"
          ]
        }
      ]
    },
    {
      "cell_type": "markdown",
      "source": [
        "# **Split the Dataset**"
      ],
      "metadata": {
        "id": "NVhCCc9Uv791"
      }
    },
    {
      "cell_type": "markdown",
      "source": [
        "First, we will split the dataset into training and test set. Next, we will split the training set into traing and validation set.\n",
        "\n",
        "Training and Test set Split\n",
        "\n",
        "\n",
        "The test_size=0.2 indicates 20% of the input data will be test set."
      ],
      "metadata": {
        "id": "bysaUW42c5W4"
      }
    },
    {
      "cell_type": "code",
      "source": [
        "X_train_all, X_test, y_train_all, y_test = train_test_split(X, y, test_size=0.2, random_state=32)"
      ],
      "metadata": {
        "id": "hxQ2rI5PwAqQ"
      },
      "execution_count": 12,
      "outputs": []
    },
    {
      "cell_type": "markdown",
      "source": [
        " Training and Validation Set split.\n",
        "\n",
        " 20% of the training data is used as validation set. Note, here the input data is training set: which is split into the training and the validation set."
      ],
      "metadata": {
        "id": "zE5zN6JCwZ0C"
      }
    },
    {
      "cell_type": "code",
      "source": [
        "X_train, X_val, y_train, y_val = train_test_split(X_train_all, y_train_all, test_size=0.2, random_state=32)"
      ],
      "metadata": {
        "id": "spKBRWrdwXut"
      },
      "execution_count": 13,
      "outputs": []
    },
    {
      "cell_type": "code",
      "source": [
        "print(X_train.shape)\n",
        "print(X_val.shape)\n",
        "print(X_test.shape)"
      ],
      "metadata": {
        "colab": {
          "base_uri": "https://localhost:8080/"
        },
        "id": "OrcXOJbrwWlF",
        "outputId": "f83aba71-d574-4944-9932-955fed213ffe"
      },
      "execution_count": 14,
      "outputs": [
        {
          "output_type": "stream",
          "name": "stdout",
          "text": [
            "(1149, 64)\n",
            "(288, 64)\n",
            "(360, 64)\n"
          ]
        }
      ]
    },
    {
      "cell_type": "markdown",
      "source": [
        "# **Defining the Model**\n",
        "1. First we will flatten our 8x8 image into a 64 element vector. We will denote it by n_features = 64 in the code. We flatten our input, as MLPs cannot handle two or three-dimensional data.\n",
        "\n",
        "2. Next, the 64 element vector input is passed through the first hidden layer (hidden_dim_1) to transform it into 64 dimensions.\n",
        "\n",
        "3. Then, the second hidden layer (hidden_dim_2) will transform it to 32 dimensions.\n",
        "\n",
        "4. Finally, an output layer which will transform it into a 10 dimensional vector. As we have ten digits, 0 - 9, so need our output to be 10 dimensions (num_classes).\n",
        "\n",
        "The prepare_model() method constructs the model."
      ],
      "metadata": {
        "id": "68ocGEnWmwvc"
      }
    },
    {
      "cell_type": "code",
      "source": [
        "\n",
        "from tensorflow.keras.models import Sequential # Changed tf.keras.models to tensorflow.keras.models\n",
        "from tensorflow.keras.layers import Dense # Changed tf.keras.layers to tensorflow.keras.layers\n",
        "\n",
        "\n",
        "\n",
        "def prepare_model():\n",
        "  hidden_dim_1 = 32\n",
        "  hidden_dim_2 = 16\n",
        "  num_classes = len(target_names)\n",
        "  n_features = X_train.shape[1]\n",
        "\n",
        "\n",
        "\n",
        "  model = Sequential()\n",
        "  ### define hidden dimension, input feature, and the activation function. The input dimenson is input_shape= (n_features,), output dimension is hidden_dim_1\n",
        "  model.add(Dense(hidden_dim_1, input_shape= (n_features,), activation='relu'))\n",
        "  ### The second hidden layer receives input from the previous layer, which has the size of hidden_dim_1. The output of this layer has a dimension of hidden_dim_2\n",
        "  model.add(Dense(hidden_dim_2, activation='relu'))\n",
        "\n",
        "  ### The third layer receives input from the previous layer, which has the size of hidden_dim_2. The output of this layer has a dimension of num_classes\n",
        "  model.add(Dense(num_classes, activation='softmax'))\n",
        "\n",
        "  #sparse_categorical_crossentropy:\"Use this crossentropy loss function when there are two or more label classes. We expect labels to be provided as integers.\"\n",
        "  ## categoriacl crossentropy: We expect labels to be provided as on-hot encoded for two or more categories.\n",
        "  opt = tf.keras.optimizers.Adam(learning_rate= 0.001)\n",
        "  model.compile(optimizer= opt, loss= 'sparse_categorical_crossentropy', metrics=['accuracy'])\n",
        "\n",
        "  print(model.summary())\n",
        "\n",
        "  return model\n",
        "\n",
        "\n"
      ],
      "metadata": {
        "id": "nXUFSmzE2hP8"
      },
      "execution_count": 15,
      "outputs": []
    },
    {
      "cell_type": "code",
      "source": [
        "my_model = prepare_model()"
      ],
      "metadata": {
        "colab": {
          "base_uri": "https://localhost:8080/",
          "height": 302
        },
        "id": "oBOulKnb59K4",
        "outputId": "2881ff72-7265-4494-e4e1-2a6ea484f545"
      },
      "execution_count": 16,
      "outputs": [
        {
          "output_type": "stream",
          "name": "stderr",
          "text": [
            "/usr/local/lib/python3.10/dist-packages/keras/src/layers/core/dense.py:87: UserWarning: Do not pass an `input_shape`/`input_dim` argument to a layer. When using Sequential models, prefer using an `Input(shape)` object as the first layer in the model instead.\n",
            "  super().__init__(activity_regularizer=activity_regularizer, **kwargs)\n"
          ]
        },
        {
          "output_type": "display_data",
          "data": {
            "text/plain": [
              "\u001b[1mModel: \"sequential\"\u001b[0m\n"
            ],
            "text/html": [
              "<pre style=\"white-space:pre;overflow-x:auto;line-height:normal;font-family:Menlo,'DejaVu Sans Mono',consolas,'Courier New',monospace\"><span style=\"font-weight: bold\">Model: \"sequential\"</span>\n",
              "</pre>\n"
            ]
          },
          "metadata": {}
        },
        {
          "output_type": "display_data",
          "data": {
            "text/plain": [
              "┏━━━━━━━━━━━━━━━━━━━━━━━━━━━━━━━━━━━━━━┳━━━━━━━━━━━━━━━━━━━━━━━━━━━━━┳━━━━━━━━━━━━━━━━━┓\n",
              "┃\u001b[1m \u001b[0m\u001b[1mLayer (type)                        \u001b[0m\u001b[1m \u001b[0m┃\u001b[1m \u001b[0m\u001b[1mOutput Shape               \u001b[0m\u001b[1m \u001b[0m┃\u001b[1m \u001b[0m\u001b[1m        Param #\u001b[0m\u001b[1m \u001b[0m┃\n",
              "┡━━━━━━━━━━━━━━━━━━━━━━━━━━━━━━━━━━━━━━╇━━━━━━━━━━━━━━━━━━━━━━━━━━━━━╇━━━━━━━━━━━━━━━━━┩\n",
              "│ dense (\u001b[38;5;33mDense\u001b[0m)                        │ (\u001b[38;5;45mNone\u001b[0m, \u001b[38;5;34m32\u001b[0m)                  │           \u001b[38;5;34m2,080\u001b[0m │\n",
              "├──────────────────────────────────────┼─────────────────────────────┼─────────────────┤\n",
              "│ dense_1 (\u001b[38;5;33mDense\u001b[0m)                      │ (\u001b[38;5;45mNone\u001b[0m, \u001b[38;5;34m16\u001b[0m)                  │             \u001b[38;5;34m528\u001b[0m │\n",
              "├──────────────────────────────────────┼─────────────────────────────┼─────────────────┤\n",
              "│ dense_2 (\u001b[38;5;33mDense\u001b[0m)                      │ (\u001b[38;5;45mNone\u001b[0m, \u001b[38;5;34m10\u001b[0m)                  │             \u001b[38;5;34m170\u001b[0m │\n",
              "└──────────────────────────────────────┴─────────────────────────────┴─────────────────┘\n"
            ],
            "text/html": [
              "<pre style=\"white-space:pre;overflow-x:auto;line-height:normal;font-family:Menlo,'DejaVu Sans Mono',consolas,'Courier New',monospace\">┏━━━━━━━━━━━━━━━━━━━━━━━━━━━━━━━━━━━━━━┳━━━━━━━━━━━━━━━━━━━━━━━━━━━━━┳━━━━━━━━━━━━━━━━━┓\n",
              "┃<span style=\"font-weight: bold\"> Layer (type)                         </span>┃<span style=\"font-weight: bold\"> Output Shape                </span>┃<span style=\"font-weight: bold\">         Param # </span>┃\n",
              "┡━━━━━━━━━━━━━━━━━━━━━━━━━━━━━━━━━━━━━━╇━━━━━━━━━━━━━━━━━━━━━━━━━━━━━╇━━━━━━━━━━━━━━━━━┩\n",
              "│ dense (<span style=\"color: #0087ff; text-decoration-color: #0087ff\">Dense</span>)                        │ (<span style=\"color: #00d7ff; text-decoration-color: #00d7ff\">None</span>, <span style=\"color: #00af00; text-decoration-color: #00af00\">32</span>)                  │           <span style=\"color: #00af00; text-decoration-color: #00af00\">2,080</span> │\n",
              "├──────────────────────────────────────┼─────────────────────────────┼─────────────────┤\n",
              "│ dense_1 (<span style=\"color: #0087ff; text-decoration-color: #0087ff\">Dense</span>)                      │ (<span style=\"color: #00d7ff; text-decoration-color: #00d7ff\">None</span>, <span style=\"color: #00af00; text-decoration-color: #00af00\">16</span>)                  │             <span style=\"color: #00af00; text-decoration-color: #00af00\">528</span> │\n",
              "├──────────────────────────────────────┼─────────────────────────────┼─────────────────┤\n",
              "│ dense_2 (<span style=\"color: #0087ff; text-decoration-color: #0087ff\">Dense</span>)                      │ (<span style=\"color: #00d7ff; text-decoration-color: #00d7ff\">None</span>, <span style=\"color: #00af00; text-decoration-color: #00af00\">10</span>)                  │             <span style=\"color: #00af00; text-decoration-color: #00af00\">170</span> │\n",
              "└──────────────────────────────────────┴─────────────────────────────┴─────────────────┘\n",
              "</pre>\n"
            ]
          },
          "metadata": {}
        },
        {
          "output_type": "display_data",
          "data": {
            "text/plain": [
              "\u001b[1m Total params: \u001b[0m\u001b[38;5;34m2,778\u001b[0m (10.85 KB)\n"
            ],
            "text/html": [
              "<pre style=\"white-space:pre;overflow-x:auto;line-height:normal;font-family:Menlo,'DejaVu Sans Mono',consolas,'Courier New',monospace\"><span style=\"font-weight: bold\"> Total params: </span><span style=\"color: #00af00; text-decoration-color: #00af00\">2,778</span> (10.85 KB)\n",
              "</pre>\n"
            ]
          },
          "metadata": {}
        },
        {
          "output_type": "display_data",
          "data": {
            "text/plain": [
              "\u001b[1m Trainable params: \u001b[0m\u001b[38;5;34m2,778\u001b[0m (10.85 KB)\n"
            ],
            "text/html": [
              "<pre style=\"white-space:pre;overflow-x:auto;line-height:normal;font-family:Menlo,'DejaVu Sans Mono',consolas,'Courier New',monospace\"><span style=\"font-weight: bold\"> Trainable params: </span><span style=\"color: #00af00; text-decoration-color: #00af00\">2,778</span> (10.85 KB)\n",
              "</pre>\n"
            ]
          },
          "metadata": {}
        },
        {
          "output_type": "display_data",
          "data": {
            "text/plain": [
              "\u001b[1m Non-trainable params: \u001b[0m\u001b[38;5;34m0\u001b[0m (0.00 B)\n"
            ],
            "text/html": [
              "<pre style=\"white-space:pre;overflow-x:auto;line-height:normal;font-family:Menlo,'DejaVu Sans Mono',consolas,'Courier New',monospace\"><span style=\"font-weight: bold\"> Non-trainable params: </span><span style=\"color: #00af00; text-decoration-color: #00af00\">0</span> (0.00 B)\n",
              "</pre>\n"
            ]
          },
          "metadata": {}
        },
        {
          "output_type": "stream",
          "name": "stdout",
          "text": [
            "None\n"
          ]
        }
      ]
    },
    {
      "cell_type": "markdown",
      "source": [
        "\n",
        "# **Model's Parameters Explanation**\n",
        "The print(model.summary()) prints model parameters at each layer. We explain it below.\n",
        "\n",
        "*   For the first dense layer , number of params is 2,080. This is obtained as : 64 (input values) * 32 (neurons in the first layer, hidden_dim_1) + 32 (bias values for neuron in the first layer)\n",
        "\n",
        "*   For the second dense layer , number of params is 528. This is obtained as : 32 (input values) * 16 (neurons in the first layer, hidden_dim_2) + 16 (bias values for neuron in the second layer)\n",
        "\n",
        "\n",
        "*   For the output dense layer , number of params is 170. This is obtained as : 16 (input values) * 10 (neurons in the third, num_classes) + 10 (bias values for neuron in the third/output layer)\n",
        "\n",
        "\n"
      ],
      "metadata": {
        "id": "GJ_j31NO_u_b"
      }
    },
    {
      "cell_type": "markdown",
      "source": [
        "# **Early Stopping**\n",
        "\n",
        "We will use Early stopping criteria as a regularization technique on the validation set. The code below indicates if the validation set performance does not improve for 5 epochs, then the training will terminate.\n",
        "\n",
        "We can also execute the code without early stopping criteria. In that case, the training will terminate after the epoch mentioned. You can try the commented out code to explore withoutr early stopping."
      ],
      "metadata": {
        "id": "pb8nDfIYd4LP"
      }
    },
    {
      "cell_type": "code",
      "source": [
        "## without early stopping.\n",
        "#\n",
        "#history = my_model.fit(X_train, y_train, validation_data=(X_val, y_val), batch_size= 64, epochs= 250)"
      ],
      "metadata": {
        "id": "RLNwIeBee3p4"
      },
      "execution_count": 17,
      "outputs": []
    },
    {
      "cell_type": "code",
      "source": [
        "## With Early stopping\n",
        "es_callback = tf.keras.callbacks.EarlyStopping(monitor='val_loss', patience=5)\n",
        "### captures the training and validation loss in each epoch. This will be used to plot and visualize\n",
        "history = my_model.fit(X_train, y_train, validation_data=(X_val, y_val), batch_size= 64, epochs= 250, callbacks=[es_callback])\n",
        "\n"
      ],
      "metadata": {
        "colab": {
          "base_uri": "https://localhost:8080/"
        },
        "id": "ljzdOqyGAO8K",
        "outputId": "7d17238e-0b45-4dc4-86f0-c75ee15bf1a0"
      },
      "execution_count": 18,
      "outputs": [
        {
          "output_type": "stream",
          "name": "stdout",
          "text": [
            "Epoch 1/250\n",
            "\u001b[1m18/18\u001b[0m \u001b[32m━━━━━━━━━━━━━━━━━━━━\u001b[0m\u001b[37m\u001b[0m \u001b[1m1s\u001b[0m 14ms/step - accuracy: 0.1119 - loss: 2.3042 - val_accuracy: 0.2465 - val_loss: 2.1909\n",
            "Epoch 2/250\n",
            "\u001b[1m18/18\u001b[0m \u001b[32m━━━━━━━━━━━━━━━━━━━━\u001b[0m\u001b[37m\u001b[0m \u001b[1m0s\u001b[0m 3ms/step - accuracy: 0.3109 - loss: 2.1558 - val_accuracy: 0.4444 - val_loss: 2.0484\n",
            "Epoch 3/250\n",
            "\u001b[1m18/18\u001b[0m \u001b[32m━━━━━━━━━━━━━━━━━━━━\u001b[0m\u001b[37m\u001b[0m \u001b[1m0s\u001b[0m 4ms/step - accuracy: 0.4176 - loss: 2.0059 - val_accuracy: 0.4792 - val_loss: 1.8570\n",
            "Epoch 4/250\n",
            "\u001b[1m18/18\u001b[0m \u001b[32m━━━━━━━━━━━━━━━━━━━━\u001b[0m\u001b[37m\u001b[0m \u001b[1m0s\u001b[0m 4ms/step - accuracy: 0.4767 - loss: 1.8078 - val_accuracy: 0.5347 - val_loss: 1.6337\n",
            "Epoch 5/250\n",
            "\u001b[1m18/18\u001b[0m \u001b[32m━━━━━━━━━━━━━━━━━━━━\u001b[0m\u001b[37m\u001b[0m \u001b[1m0s\u001b[0m 3ms/step - accuracy: 0.5392 - loss: 1.5790 - val_accuracy: 0.6319 - val_loss: 1.3978\n",
            "Epoch 6/250\n",
            "\u001b[1m18/18\u001b[0m \u001b[32m━━━━━━━━━━━━━━━━━━━━\u001b[0m\u001b[37m\u001b[0m \u001b[1m0s\u001b[0m 4ms/step - accuracy: 0.6631 - loss: 1.3412 - val_accuracy: 0.7326 - val_loss: 1.1595\n",
            "Epoch 7/250\n",
            "\u001b[1m18/18\u001b[0m \u001b[32m━━━━━━━━━━━━━━━━━━━━\u001b[0m\u001b[37m\u001b[0m \u001b[1m0s\u001b[0m 3ms/step - accuracy: 0.7590 - loss: 1.1117 - val_accuracy: 0.8194 - val_loss: 0.9491\n",
            "Epoch 8/250\n",
            "\u001b[1m18/18\u001b[0m \u001b[32m━━━━━━━━━━━━━━━━━━━━\u001b[0m\u001b[37m\u001b[0m \u001b[1m0s\u001b[0m 3ms/step - accuracy: 0.8318 - loss: 0.9179 - val_accuracy: 0.8542 - val_loss: 0.7885\n",
            "Epoch 9/250\n",
            "\u001b[1m18/18\u001b[0m \u001b[32m━━━━━━━━━━━━━━━━━━━━\u001b[0m\u001b[37m\u001b[0m \u001b[1m0s\u001b[0m 4ms/step - accuracy: 0.8588 - loss: 0.7698 - val_accuracy: 0.8681 - val_loss: 0.6696\n",
            "Epoch 10/250\n",
            "\u001b[1m18/18\u001b[0m \u001b[32m━━━━━━━━━━━━━━━━━━━━\u001b[0m\u001b[37m\u001b[0m \u001b[1m0s\u001b[0m 4ms/step - accuracy: 0.8819 - loss: 0.6602 - val_accuracy: 0.8854 - val_loss: 0.5820\n",
            "Epoch 11/250\n",
            "\u001b[1m18/18\u001b[0m \u001b[32m━━━━━━━━━━━━━━━━━━━━\u001b[0m\u001b[37m\u001b[0m \u001b[1m0s\u001b[0m 3ms/step - accuracy: 0.8940 - loss: 0.5777 - val_accuracy: 0.8924 - val_loss: 0.5157\n",
            "Epoch 12/250\n",
            "\u001b[1m18/18\u001b[0m \u001b[32m━━━━━━━━━━━━━━━━━━━━\u001b[0m\u001b[37m\u001b[0m \u001b[1m0s\u001b[0m 4ms/step - accuracy: 0.8985 - loss: 0.5141 - val_accuracy: 0.9062 - val_loss: 0.4639\n",
            "Epoch 13/250\n",
            "\u001b[1m18/18\u001b[0m \u001b[32m━━━━━━━━━━━━━━━━━━━━\u001b[0m\u001b[37m\u001b[0m \u001b[1m0s\u001b[0m 3ms/step - accuracy: 0.9093 - loss: 0.4636 - val_accuracy: 0.9132 - val_loss: 0.4227\n",
            "Epoch 14/250\n",
            "\u001b[1m18/18\u001b[0m \u001b[32m━━━━━━━━━━━━━━━━━━━━\u001b[0m\u001b[37m\u001b[0m \u001b[1m0s\u001b[0m 5ms/step - accuracy: 0.9111 - loss: 0.4226 - val_accuracy: 0.9167 - val_loss: 0.3887\n",
            "Epoch 15/250\n",
            "\u001b[1m18/18\u001b[0m \u001b[32m━━━━━━━━━━━━━━━━━━━━\u001b[0m\u001b[37m\u001b[0m \u001b[1m0s\u001b[0m 3ms/step - accuracy: 0.9137 - loss: 0.3885 - val_accuracy: 0.9236 - val_loss: 0.3607\n",
            "Epoch 16/250\n",
            "\u001b[1m18/18\u001b[0m \u001b[32m━━━━━━━━━━━━━━━━━━━━\u001b[0m\u001b[37m\u001b[0m \u001b[1m0s\u001b[0m 3ms/step - accuracy: 0.9141 - loss: 0.3603 - val_accuracy: 0.9236 - val_loss: 0.3372\n",
            "Epoch 17/250\n",
            "\u001b[1m18/18\u001b[0m \u001b[32m━━━━━━━━━━━━━━━━━━━━\u001b[0m\u001b[37m\u001b[0m \u001b[1m0s\u001b[0m 4ms/step - accuracy: 0.9198 - loss: 0.3359 - val_accuracy: 0.9236 - val_loss: 0.3176\n",
            "Epoch 18/250\n",
            "\u001b[1m18/18\u001b[0m \u001b[32m━━━━━━━━━━━━━━━━━━━━\u001b[0m\u001b[37m\u001b[0m \u001b[1m0s\u001b[0m 4ms/step - accuracy: 0.9247 - loss: 0.3153 - val_accuracy: 0.9271 - val_loss: 0.3010\n",
            "Epoch 19/250\n",
            "\u001b[1m18/18\u001b[0m \u001b[32m━━━━━━━━━━━━━━━━━━━━\u001b[0m\u001b[37m\u001b[0m \u001b[1m0s\u001b[0m 4ms/step - accuracy: 0.9269 - loss: 0.2971 - val_accuracy: 0.9271 - val_loss: 0.2866\n",
            "Epoch 20/250\n",
            "\u001b[1m18/18\u001b[0m \u001b[32m━━━━━━━━━━━━━━━━━━━━\u001b[0m\u001b[37m\u001b[0m \u001b[1m0s\u001b[0m 3ms/step - accuracy: 0.9355 - loss: 0.2809 - val_accuracy: 0.9271 - val_loss: 0.2742\n",
            "Epoch 21/250\n",
            "\u001b[1m18/18\u001b[0m \u001b[32m━━━━━━━━━━━━━━━━━━━━\u001b[0m\u001b[37m\u001b[0m \u001b[1m0s\u001b[0m 3ms/step - accuracy: 0.9386 - loss: 0.2664 - val_accuracy: 0.9340 - val_loss: 0.2632\n",
            "Epoch 22/250\n",
            "\u001b[1m18/18\u001b[0m \u001b[32m━━━━━━━━━━━━━━━━━━━━\u001b[0m\u001b[37m\u001b[0m \u001b[1m0s\u001b[0m 3ms/step - accuracy: 0.9428 - loss: 0.2533 - val_accuracy: 0.9375 - val_loss: 0.2536\n",
            "Epoch 23/250\n",
            "\u001b[1m18/18\u001b[0m \u001b[32m━━━━━━━━━━━━━━━━━━━━\u001b[0m\u001b[37m\u001b[0m \u001b[1m0s\u001b[0m 4ms/step - accuracy: 0.9434 - loss: 0.2414 - val_accuracy: 0.9444 - val_loss: 0.2451\n",
            "Epoch 24/250\n",
            "\u001b[1m18/18\u001b[0m \u001b[32m━━━━━━━━━━━━━━━━━━━━\u001b[0m\u001b[37m\u001b[0m \u001b[1m0s\u001b[0m 4ms/step - accuracy: 0.9431 - loss: 0.2303 - val_accuracy: 0.9444 - val_loss: 0.2375\n",
            "Epoch 25/250\n",
            "\u001b[1m18/18\u001b[0m \u001b[32m━━━━━━━━━━━━━━━━━━━━\u001b[0m\u001b[37m\u001b[0m \u001b[1m0s\u001b[0m 3ms/step - accuracy: 0.9483 - loss: 0.2202 - val_accuracy: 0.9410 - val_loss: 0.2306\n",
            "Epoch 26/250\n",
            "\u001b[1m18/18\u001b[0m \u001b[32m━━━━━━━━━━━━━━━━━━━━\u001b[0m\u001b[37m\u001b[0m \u001b[1m0s\u001b[0m 4ms/step - accuracy: 0.9505 - loss: 0.2108 - val_accuracy: 0.9410 - val_loss: 0.2247\n",
            "Epoch 27/250\n",
            "\u001b[1m18/18\u001b[0m \u001b[32m━━━━━━━━━━━━━━━━━━━━\u001b[0m\u001b[37m\u001b[0m \u001b[1m0s\u001b[0m 4ms/step - accuracy: 0.9533 - loss: 0.2023 - val_accuracy: 0.9410 - val_loss: 0.2192\n",
            "Epoch 28/250\n",
            "\u001b[1m18/18\u001b[0m \u001b[32m━━━━━━━━━━━━━━━━━━━━\u001b[0m\u001b[37m\u001b[0m \u001b[1m0s\u001b[0m 6ms/step - accuracy: 0.9546 - loss: 0.1941 - val_accuracy: 0.9479 - val_loss: 0.2136\n",
            "Epoch 29/250\n",
            "\u001b[1m18/18\u001b[0m \u001b[32m━━━━━━━━━━━━━━━━━━━━\u001b[0m\u001b[37m\u001b[0m \u001b[1m0s\u001b[0m 5ms/step - accuracy: 0.9542 - loss: 0.1868 - val_accuracy: 0.9444 - val_loss: 0.2089\n",
            "Epoch 30/250\n",
            "\u001b[1m18/18\u001b[0m \u001b[32m━━━━━━━━━━━━━━━━━━━━\u001b[0m\u001b[37m\u001b[0m \u001b[1m0s\u001b[0m 6ms/step - accuracy: 0.9554 - loss: 0.1798 - val_accuracy: 0.9444 - val_loss: 0.2048\n",
            "Epoch 31/250\n",
            "\u001b[1m18/18\u001b[0m \u001b[32m━━━━━━━━━━━━━━━━━━━━\u001b[0m\u001b[37m\u001b[0m \u001b[1m0s\u001b[0m 6ms/step - accuracy: 0.9558 - loss: 0.1733 - val_accuracy: 0.9444 - val_loss: 0.2010\n",
            "Epoch 32/250\n",
            "\u001b[1m18/18\u001b[0m \u001b[32m━━━━━━━━━━━━━━━━━━━━\u001b[0m\u001b[37m\u001b[0m \u001b[1m0s\u001b[0m 5ms/step - accuracy: 0.9582 - loss: 0.1670 - val_accuracy: 0.9444 - val_loss: 0.1973\n",
            "Epoch 33/250\n",
            "\u001b[1m18/18\u001b[0m \u001b[32m━━━━━━━━━━━━━━━━━━━━\u001b[0m\u001b[37m\u001b[0m \u001b[1m0s\u001b[0m 6ms/step - accuracy: 0.9589 - loss: 0.1610 - val_accuracy: 0.9410 - val_loss: 0.1942\n",
            "Epoch 34/250\n",
            "\u001b[1m18/18\u001b[0m \u001b[32m━━━━━━━━━━━━━━━━━━━━\u001b[0m\u001b[37m\u001b[0m \u001b[1m0s\u001b[0m 5ms/step - accuracy: 0.9594 - loss: 0.1554 - val_accuracy: 0.9444 - val_loss: 0.1909\n",
            "Epoch 35/250\n",
            "\u001b[1m18/18\u001b[0m \u001b[32m━━━━━━━━━━━━━━━━━━━━\u001b[0m\u001b[37m\u001b[0m \u001b[1m0s\u001b[0m 5ms/step - accuracy: 0.9595 - loss: 0.1501 - val_accuracy: 0.9410 - val_loss: 0.1879\n",
            "Epoch 36/250\n",
            "\u001b[1m18/18\u001b[0m \u001b[32m━━━━━━━━━━━━━━━━━━━━\u001b[0m\u001b[37m\u001b[0m \u001b[1m0s\u001b[0m 6ms/step - accuracy: 0.9626 - loss: 0.1451 - val_accuracy: 0.9410 - val_loss: 0.1855\n",
            "Epoch 37/250\n",
            "\u001b[1m18/18\u001b[0m \u001b[32m━━━━━━━━━━━━━━━━━━━━\u001b[0m\u001b[37m\u001b[0m \u001b[1m0s\u001b[0m 6ms/step - accuracy: 0.9630 - loss: 0.1401 - val_accuracy: 0.9410 - val_loss: 0.1828\n",
            "Epoch 38/250\n",
            "\u001b[1m18/18\u001b[0m \u001b[32m━━━━━━━━━━━━━━━━━━━━\u001b[0m\u001b[37m\u001b[0m \u001b[1m0s\u001b[0m 5ms/step - accuracy: 0.9639 - loss: 0.1355 - val_accuracy: 0.9410 - val_loss: 0.1810\n",
            "Epoch 39/250\n",
            "\u001b[1m18/18\u001b[0m \u001b[32m━━━━━━━━━━━━━━━━━━━━\u001b[0m\u001b[37m\u001b[0m \u001b[1m0s\u001b[0m 5ms/step - accuracy: 0.9670 - loss: 0.1310 - val_accuracy: 0.9410 - val_loss: 0.1787\n",
            "Epoch 40/250\n",
            "\u001b[1m18/18\u001b[0m \u001b[32m━━━━━━━━━━━━━━━━━━━━\u001b[0m\u001b[37m\u001b[0m \u001b[1m0s\u001b[0m 8ms/step - accuracy: 0.9674 - loss: 0.1268 - val_accuracy: 0.9410 - val_loss: 0.1766\n",
            "Epoch 41/250\n",
            "\u001b[1m18/18\u001b[0m \u001b[32m━━━━━━━━━━━━━━━━━━━━\u001b[0m\u001b[37m\u001b[0m \u001b[1m0s\u001b[0m 6ms/step - accuracy: 0.9688 - loss: 0.1228 - val_accuracy: 0.9444 - val_loss: 0.1752\n",
            "Epoch 42/250\n",
            "\u001b[1m18/18\u001b[0m \u001b[32m━━━━━━━━━━━━━━━━━━━━\u001b[0m\u001b[37m\u001b[0m \u001b[1m0s\u001b[0m 8ms/step - accuracy: 0.9688 - loss: 0.1189 - val_accuracy: 0.9444 - val_loss: 0.1734\n",
            "Epoch 43/250\n",
            "\u001b[1m18/18\u001b[0m \u001b[32m━━━━━━━━━━━━━━━━━━━━\u001b[0m\u001b[37m\u001b[0m \u001b[1m0s\u001b[0m 5ms/step - accuracy: 0.9700 - loss: 0.1151 - val_accuracy: 0.9444 - val_loss: 0.1718\n",
            "Epoch 44/250\n",
            "\u001b[1m18/18\u001b[0m \u001b[32m━━━━━━━━━━━━━━━━━━━━\u001b[0m\u001b[37m\u001b[0m \u001b[1m0s\u001b[0m 4ms/step - accuracy: 0.9711 - loss: 0.1116 - val_accuracy: 0.9444 - val_loss: 0.1705\n",
            "Epoch 45/250\n",
            "\u001b[1m18/18\u001b[0m \u001b[32m━━━━━━━━━━━━━━━━━━━━\u001b[0m\u001b[37m\u001b[0m \u001b[1m0s\u001b[0m 4ms/step - accuracy: 0.9725 - loss: 0.1082 - val_accuracy: 0.9444 - val_loss: 0.1691\n",
            "Epoch 46/250\n",
            "\u001b[1m18/18\u001b[0m \u001b[32m━━━━━━━━━━━━━━━━━━━━\u001b[0m\u001b[37m\u001b[0m \u001b[1m0s\u001b[0m 4ms/step - accuracy: 0.9726 - loss: 0.1050 - val_accuracy: 0.9479 - val_loss: 0.1680\n",
            "Epoch 47/250\n",
            "\u001b[1m18/18\u001b[0m \u001b[32m━━━━━━━━━━━━━━━━━━━━\u001b[0m\u001b[37m\u001b[0m \u001b[1m0s\u001b[0m 4ms/step - accuracy: 0.9747 - loss: 0.1018 - val_accuracy: 0.9479 - val_loss: 0.1667\n",
            "Epoch 48/250\n",
            "\u001b[1m18/18\u001b[0m \u001b[32m━━━━━━━━━━━━━━━━━━━━\u001b[0m\u001b[37m\u001b[0m \u001b[1m0s\u001b[0m 3ms/step - accuracy: 0.9750 - loss: 0.0989 - val_accuracy: 0.9479 - val_loss: 0.1659\n",
            "Epoch 49/250\n",
            "\u001b[1m18/18\u001b[0m \u001b[32m━━━━━━━━━━━━━━━━━━━━\u001b[0m\u001b[37m\u001b[0m \u001b[1m0s\u001b[0m 4ms/step - accuracy: 0.9757 - loss: 0.0960 - val_accuracy: 0.9479 - val_loss: 0.1654\n",
            "Epoch 50/250\n",
            "\u001b[1m18/18\u001b[0m \u001b[32m━━━━━━━━━━━━━━━━━━━━\u001b[0m\u001b[37m\u001b[0m \u001b[1m0s\u001b[0m 4ms/step - accuracy: 0.9770 - loss: 0.0931 - val_accuracy: 0.9479 - val_loss: 0.1643\n",
            "Epoch 51/250\n",
            "\u001b[1m18/18\u001b[0m \u001b[32m━━━━━━━━━━━━━━━━━━━━\u001b[0m\u001b[37m\u001b[0m \u001b[1m0s\u001b[0m 4ms/step - accuracy: 0.9770 - loss: 0.0904 - val_accuracy: 0.9479 - val_loss: 0.1638\n",
            "Epoch 52/250\n",
            "\u001b[1m18/18\u001b[0m \u001b[32m━━━━━━━━━━━━━━━━━━━━\u001b[0m\u001b[37m\u001b[0m \u001b[1m0s\u001b[0m 3ms/step - accuracy: 0.9770 - loss: 0.0878 - val_accuracy: 0.9479 - val_loss: 0.1628\n",
            "Epoch 53/250\n",
            "\u001b[1m18/18\u001b[0m \u001b[32m━━━━━━━━━━━━━━━━━━━━\u001b[0m\u001b[37m\u001b[0m \u001b[1m0s\u001b[0m 5ms/step - accuracy: 0.9770 - loss: 0.0852 - val_accuracy: 0.9479 - val_loss: 0.1621\n",
            "Epoch 54/250\n",
            "\u001b[1m18/18\u001b[0m \u001b[32m━━━━━━━━━━━━━━━━━━━━\u001b[0m\u001b[37m\u001b[0m \u001b[1m0s\u001b[0m 3ms/step - accuracy: 0.9770 - loss: 0.0830 - val_accuracy: 0.9479 - val_loss: 0.1614\n",
            "Epoch 55/250\n",
            "\u001b[1m18/18\u001b[0m \u001b[32m━━━━━━━━━━━━━━━━━━━━\u001b[0m\u001b[37m\u001b[0m \u001b[1m0s\u001b[0m 4ms/step - accuracy: 0.9775 - loss: 0.0806 - val_accuracy: 0.9479 - val_loss: 0.1608\n",
            "Epoch 56/250\n",
            "\u001b[1m18/18\u001b[0m \u001b[32m━━━━━━━━━━━━━━━━━━━━\u001b[0m\u001b[37m\u001b[0m \u001b[1m0s\u001b[0m 3ms/step - accuracy: 0.9779 - loss: 0.0784 - val_accuracy: 0.9479 - val_loss: 0.1604\n",
            "Epoch 57/250\n",
            "\u001b[1m18/18\u001b[0m \u001b[32m━━━━━━━━━━━━━━━━━━━━\u001b[0m\u001b[37m\u001b[0m \u001b[1m0s\u001b[0m 4ms/step - accuracy: 0.9784 - loss: 0.0761 - val_accuracy: 0.9479 - val_loss: 0.1595\n",
            "Epoch 58/250\n",
            "\u001b[1m18/18\u001b[0m \u001b[32m━━━━━━━━━━━━━━━━━━━━\u001b[0m\u001b[37m\u001b[0m \u001b[1m0s\u001b[0m 3ms/step - accuracy: 0.9784 - loss: 0.0743 - val_accuracy: 0.9479 - val_loss: 0.1596\n",
            "Epoch 59/250\n",
            "\u001b[1m18/18\u001b[0m \u001b[32m━━━━━━━━━━━━━━━━━━━━\u001b[0m\u001b[37m\u001b[0m \u001b[1m0s\u001b[0m 3ms/step - accuracy: 0.9784 - loss: 0.0720 - val_accuracy: 0.9479 - val_loss: 0.1587\n",
            "Epoch 60/250\n",
            "\u001b[1m18/18\u001b[0m \u001b[32m━━━━━━━━━━━━━━━━━━━━\u001b[0m\u001b[37m\u001b[0m \u001b[1m0s\u001b[0m 4ms/step - accuracy: 0.9831 - loss: 0.0702 - val_accuracy: 0.9479 - val_loss: 0.1587\n",
            "Epoch 61/250\n",
            "\u001b[1m18/18\u001b[0m \u001b[32m━━━━━━━━━━━━━━━━━━━━\u001b[0m\u001b[37m\u001b[0m \u001b[1m0s\u001b[0m 3ms/step - accuracy: 0.9841 - loss: 0.0682 - val_accuracy: 0.9479 - val_loss: 0.1581\n",
            "Epoch 62/250\n",
            "\u001b[1m18/18\u001b[0m \u001b[32m━━━━━━━━━━━━━━━━━━━━\u001b[0m\u001b[37m\u001b[0m \u001b[1m0s\u001b[0m 5ms/step - accuracy: 0.9831 - loss: 0.0665 - val_accuracy: 0.9479 - val_loss: 0.1579\n",
            "Epoch 63/250\n",
            "\u001b[1m18/18\u001b[0m \u001b[32m━━━━━━━━━━━━━━━━━━━━\u001b[0m\u001b[37m\u001b[0m \u001b[1m0s\u001b[0m 3ms/step - accuracy: 0.9841 - loss: 0.0646 - val_accuracy: 0.9479 - val_loss: 0.1574\n",
            "Epoch 64/250\n",
            "\u001b[1m18/18\u001b[0m \u001b[32m━━━━━━━━━━━━━━━━━━━━\u001b[0m\u001b[37m\u001b[0m \u001b[1m0s\u001b[0m 3ms/step - accuracy: 0.9841 - loss: 0.0630 - val_accuracy: 0.9479 - val_loss: 0.1573\n",
            "Epoch 65/250\n",
            "\u001b[1m18/18\u001b[0m \u001b[32m━━━━━━━━━━━━━━━━━━━━\u001b[0m\u001b[37m\u001b[0m \u001b[1m0s\u001b[0m 4ms/step - accuracy: 0.9858 - loss: 0.0613 - val_accuracy: 0.9479 - val_loss: 0.1571\n",
            "Epoch 66/250\n",
            "\u001b[1m18/18\u001b[0m \u001b[32m━━━━━━━━━━━━━━━━━━━━\u001b[0m\u001b[37m\u001b[0m \u001b[1m0s\u001b[0m 4ms/step - accuracy: 0.9858 - loss: 0.0597 - val_accuracy: 0.9479 - val_loss: 0.1568\n",
            "Epoch 67/250\n",
            "\u001b[1m18/18\u001b[0m \u001b[32m━━━━━━━━━━━━━━━━━━━━\u001b[0m\u001b[37m\u001b[0m \u001b[1m0s\u001b[0m 4ms/step - accuracy: 0.9879 - loss: 0.0580 - val_accuracy: 0.9479 - val_loss: 0.1568\n",
            "Epoch 68/250\n",
            "\u001b[1m18/18\u001b[0m \u001b[32m━━━━━━━━━━━━━━━━━━━━\u001b[0m\u001b[37m\u001b[0m \u001b[1m0s\u001b[0m 5ms/step - accuracy: 0.9879 - loss: 0.0567 - val_accuracy: 0.9479 - val_loss: 0.1568\n",
            "Epoch 69/250\n",
            "\u001b[1m18/18\u001b[0m \u001b[32m━━━━━━━━━━━━━━━━━━━━\u001b[0m\u001b[37m\u001b[0m \u001b[1m0s\u001b[0m 3ms/step - accuracy: 0.9925 - loss: 0.0550 - val_accuracy: 0.9479 - val_loss: 0.1565\n",
            "Epoch 70/250\n",
            "\u001b[1m18/18\u001b[0m \u001b[32m━━━━━━━━━━━━━━━━━━━━\u001b[0m\u001b[37m\u001b[0m \u001b[1m0s\u001b[0m 4ms/step - accuracy: 0.9948 - loss: 0.0537 - val_accuracy: 0.9479 - val_loss: 0.1565\n",
            "Epoch 71/250\n",
            "\u001b[1m18/18\u001b[0m \u001b[32m━━━━━━━━━━━━━━━━━━━━\u001b[0m\u001b[37m\u001b[0m \u001b[1m0s\u001b[0m 4ms/step - accuracy: 0.9946 - loss: 0.0522 - val_accuracy: 0.9479 - val_loss: 0.1562\n",
            "Epoch 72/250\n",
            "\u001b[1m18/18\u001b[0m \u001b[32m━━━━━━━━━━━━━━━━━━━━\u001b[0m\u001b[37m\u001b[0m \u001b[1m0s\u001b[0m 4ms/step - accuracy: 0.9948 - loss: 0.0510 - val_accuracy: 0.9479 - val_loss: 0.1562\n",
            "Epoch 73/250\n",
            "\u001b[1m18/18\u001b[0m \u001b[32m━━━━━━━━━━━━━━━━━━━━\u001b[0m\u001b[37m\u001b[0m \u001b[1m0s\u001b[0m 4ms/step - accuracy: 0.9948 - loss: 0.0496 - val_accuracy: 0.9479 - val_loss: 0.1562\n",
            "Epoch 74/250\n",
            "\u001b[1m18/18\u001b[0m \u001b[32m━━━━━━━━━━━━━━━━━━━━\u001b[0m\u001b[37m\u001b[0m \u001b[1m0s\u001b[0m 5ms/step - accuracy: 0.9948 - loss: 0.0484 - val_accuracy: 0.9479 - val_loss: 0.1559\n",
            "Epoch 75/250\n",
            "\u001b[1m18/18\u001b[0m \u001b[32m━━━━━━━━━━━━━━━━━━━━\u001b[0m\u001b[37m\u001b[0m \u001b[1m0s\u001b[0m 4ms/step - accuracy: 0.9950 - loss: 0.0472 - val_accuracy: 0.9479 - val_loss: 0.1562\n",
            "Epoch 76/250\n",
            "\u001b[1m18/18\u001b[0m \u001b[32m━━━━━━━━━━━━━━━━━━━━\u001b[0m\u001b[37m\u001b[0m \u001b[1m0s\u001b[0m 4ms/step - accuracy: 0.9950 - loss: 0.0458 - val_accuracy: 0.9479 - val_loss: 0.1558\n",
            "Epoch 77/250\n",
            "\u001b[1m18/18\u001b[0m \u001b[32m━━━━━━━━━━━━━━━━━━━━\u001b[0m\u001b[37m\u001b[0m \u001b[1m0s\u001b[0m 4ms/step - accuracy: 0.9957 - loss: 0.0447 - val_accuracy: 0.9479 - val_loss: 0.1557\n",
            "Epoch 78/250\n",
            "\u001b[1m18/18\u001b[0m \u001b[32m━━━━━━━━━━━━━━━━━━━━\u001b[0m\u001b[37m\u001b[0m \u001b[1m0s\u001b[0m 4ms/step - accuracy: 0.9978 - loss: 0.0435 - val_accuracy: 0.9479 - val_loss: 0.1559\n",
            "Epoch 79/250\n",
            "\u001b[1m18/18\u001b[0m \u001b[32m━━━━━━━━━━━━━━━━━━━━\u001b[0m\u001b[37m\u001b[0m \u001b[1m0s\u001b[0m 3ms/step - accuracy: 0.9978 - loss: 0.0425 - val_accuracy: 0.9479 - val_loss: 0.1559\n",
            "Epoch 80/250\n",
            "\u001b[1m18/18\u001b[0m \u001b[32m━━━━━━━━━━━━━━━━━━━━\u001b[0m\u001b[37m\u001b[0m \u001b[1m0s\u001b[0m 4ms/step - accuracy: 0.9978 - loss: 0.0413 - val_accuracy: 0.9479 - val_loss: 0.1555\n",
            "Epoch 81/250\n",
            "\u001b[1m18/18\u001b[0m \u001b[32m━━━━━━━━━━━━━━━━━━━━\u001b[0m\u001b[37m\u001b[0m \u001b[1m0s\u001b[0m 4ms/step - accuracy: 0.9990 - loss: 0.0403 - val_accuracy: 0.9479 - val_loss: 0.1554\n",
            "Epoch 82/250\n",
            "\u001b[1m18/18\u001b[0m \u001b[32m━━━━━━━━━━━━━━━━━━━━\u001b[0m\u001b[37m\u001b[0m \u001b[1m0s\u001b[0m 3ms/step - accuracy: 0.9990 - loss: 0.0393 - val_accuracy: 0.9479 - val_loss: 0.1557\n",
            "Epoch 83/250\n",
            "\u001b[1m18/18\u001b[0m \u001b[32m━━━━━━━━━━━━━━━━━━━━\u001b[0m\u001b[37m\u001b[0m \u001b[1m0s\u001b[0m 3ms/step - accuracy: 0.9990 - loss: 0.0384 - val_accuracy: 0.9514 - val_loss: 0.1553\n",
            "Epoch 84/250\n",
            "\u001b[1m18/18\u001b[0m \u001b[32m━━━━━━━━━━━━━━━━━━━━\u001b[0m\u001b[37m\u001b[0m \u001b[1m0s\u001b[0m 4ms/step - accuracy: 0.9990 - loss: 0.0375 - val_accuracy: 0.9514 - val_loss: 0.1556\n",
            "Epoch 85/250\n",
            "\u001b[1m18/18\u001b[0m \u001b[32m━━━━━━━━━━━━━━━━━━━━\u001b[0m\u001b[37m\u001b[0m \u001b[1m0s\u001b[0m 4ms/step - accuracy: 0.9990 - loss: 0.0364 - val_accuracy: 0.9514 - val_loss: 0.1550\n",
            "Epoch 86/250\n",
            "\u001b[1m18/18\u001b[0m \u001b[32m━━━━━━━━━━━━━━━━━━━━\u001b[0m\u001b[37m\u001b[0m \u001b[1m0s\u001b[0m 3ms/step - accuracy: 0.9990 - loss: 0.0356 - val_accuracy: 0.9514 - val_loss: 0.1557\n",
            "Epoch 87/250\n",
            "\u001b[1m18/18\u001b[0m \u001b[32m━━━━━━━━━━━━━━━━━━━━\u001b[0m\u001b[37m\u001b[0m \u001b[1m0s\u001b[0m 4ms/step - accuracy: 0.9990 - loss: 0.0347 - val_accuracy: 0.9514 - val_loss: 0.1550\n",
            "Epoch 88/250\n",
            "\u001b[1m18/18\u001b[0m \u001b[32m━━━━━━━━━━━━━━━━━━━━\u001b[0m\u001b[37m\u001b[0m \u001b[1m0s\u001b[0m 4ms/step - accuracy: 1.0000 - loss: 0.0339 - val_accuracy: 0.9514 - val_loss: 0.1555\n",
            "Epoch 89/250\n",
            "\u001b[1m18/18\u001b[0m \u001b[32m━━━━━━━━━━━━━━━━━━━━\u001b[0m\u001b[37m\u001b[0m \u001b[1m0s\u001b[0m 4ms/step - accuracy: 1.0000 - loss: 0.0330 - val_accuracy: 0.9514 - val_loss: 0.1551\n",
            "Epoch 90/250\n",
            "\u001b[1m18/18\u001b[0m \u001b[32m━━━━━━━━━━━━━━━━━━━━\u001b[0m\u001b[37m\u001b[0m \u001b[1m0s\u001b[0m 4ms/step - accuracy: 1.0000 - loss: 0.0323 - val_accuracy: 0.9514 - val_loss: 0.1556\n"
          ]
        }
      ]
    },
    {
      "cell_type": "markdown",
      "source": [
        "# **Plot Training and Validation Loss**\n",
        "Can be used to monitor model tarining and detect overfitting/underfitting."
      ],
      "metadata": {
        "id": "IF__CV8njs3v"
      }
    },
    {
      "cell_type": "code",
      "source": [
        "#Plot history\n",
        "plt.plot(history.history['accuracy'])\n",
        "plt.plot(history.history['val_accuracy'])\n",
        "plt.title('model accuracy')\n",
        "plt.ylabel('accuracy')\n",
        "plt.xlabel('epoch')\n",
        "plt.legend(['train', 'val'], loc='upper left')\n",
        "plt.show()"
      ],
      "metadata": {
        "colab": {
          "base_uri": "https://localhost:8080/",
          "height": 472
        },
        "id": "M9WH6TL2CWyZ",
        "outputId": "ff6979e6-1fa2-4b7e-99c4-d3728e44028d"
      },
      "execution_count": 19,
      "outputs": [
        {
          "output_type": "display_data",
          "data": {
            "text/plain": [
              "<Figure size 640x480 with 1 Axes>"
            ],
            "image/png": "[encoded data removed]"
          },
          "metadata": {}
        }
      ]
    },
    {
      "cell_type": "markdown",
      "source": [
        "# **Test Error**"
      ],
      "metadata": {
        "id": "3IOzE7k7Chmw"
      }
    },
    {
      "cell_type": "code",
      "source": [
        "### mat = np.argmax(my_model.predict(X_test))\n",
        "#print(mat)\n",
        "## will take the maximum number of the entire test data matrix.\n",
        "\n",
        "## Specifying np.argmax(my_model.predict(X_test), axis=-1) means: for each image in the test set, the predicted output is an array of 10 entries [0-9]. We take the\n",
        "## maximum of the prediction---which is the class label\n",
        "y_pred = np.argmax(my_model.predict(X_test), axis=-1)"
      ],
      "metadata": {
        "colab": {
          "base_uri": "https://localhost:8080/"
        },
        "id": "uX-DRRMgWNs4",
        "outputId": "da87ffb2-882f-44ee-cefd-401c9dac251a"
      },
      "execution_count": 20,
      "outputs": [
        {
          "output_type": "stream",
          "name": "stdout",
          "text": [
            "\u001b[1m12/12\u001b[0m \u001b[32m━━━━━━━━━━━━━━━━━━━━\u001b[0m\u001b[37m\u001b[0m \u001b[1m0s\u001b[0m 4ms/step \n"
          ]
        }
      ]
    },
    {
      "cell_type": "code",
      "source": [
        "from sklearn import metrics\n",
        "test_accuracy = metrics.accuracy_score(y_test, y_pred)\n",
        "print(\"Test Accuracy: %.2f\"%(test_accuracy))"
      ],
      "metadata": {
        "colab": {
          "base_uri": "https://localhost:8080/"
        },
        "id": "Z8FZ4IioWbSd",
        "outputId": "c92dff7d-3ac2-4f2a-ab75-7286acd6a960"
      },
      "execution_count": 21,
      "outputs": [
        {
          "output_type": "stream",
          "name": "stdout",
          "text": [
            "Test Accuracy: 0.98\n"
          ]
        }
      ]
    },
    {
      "cell_type": "markdown",
      "source": [
        "# **Confusion Matrix**"
      ],
      "metadata": {
        "id": "ZexX_kDsSM7s"
      }
    },
    {
      "cell_type": "code",
      "source": [
        "cm = confusion_matrix(y_test, y_pred)\n",
        "sns.heatmap(cm, annot=True)\n",
        "plt.show()\n"
      ],
      "metadata": {
        "colab": {
          "base_uri": "https://localhost:8080/",
          "height": 430
        },
        "id": "4mK6_2HjTHZl",
        "outputId": "0c21be77-8b1a-49f1-eaf6-7d819ce170eb"
      },
      "execution_count": 22,
      "outputs": [
        {
          "output_type": "display_data",
          "data": {
            "text/plain": [
              "<Figure size 640x480 with 2 Axes>"
            ],
            "image/png": "[encoded data removed]"
          },
          "metadata": {}
        }
      ]
    },
    {
      "cell_type": "markdown",
      "source": [
        "# **Print Classification Report**"
      ],
      "metadata": {
        "id": "wyg7SdrrXa38"
      }
    },
    {
      "cell_type": "code",
      "source": [
        "print(metrics.classification_report(y_test, y_pred))"
      ],
      "metadata": {
        "colab": {
          "base_uri": "https://localhost:8080/"
        },
        "id": "p0WLPs2tXaEi",
        "outputId": "9407df84-0d35-446a-97cf-cd299225b276"
      },
      "execution_count": 23,
      "outputs": [
        {
          "output_type": "stream",
          "name": "stdout",
          "text": [
            "              precision    recall  f1-score   support\n",
            "\n",
            "           0       1.00      1.00      1.00        38\n",
            "           1       0.97      0.94      0.96        36\n",
            "           2       1.00      1.00      1.00        32\n",
            "           3       1.00      0.98      0.99        56\n",
            "           4       1.00      0.97      0.98        31\n",
            "           5       0.97      0.94      0.96        36\n",
            "           6       1.00      1.00      1.00        34\n",
            "           7       1.00      1.00      1.00        34\n",
            "           8       0.96      0.96      0.96        27\n",
            "           9       0.90      1.00      0.95        36\n",
            "\n",
            "    accuracy                           0.98       360\n",
            "   macro avg       0.98      0.98      0.98       360\n",
            "weighted avg       0.98      0.98      0.98       360\n",
            "\n"
          ]
        }
      ]
    }
  ]
}