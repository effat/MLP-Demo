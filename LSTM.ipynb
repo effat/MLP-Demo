{
  "nbformat": 4,
  "nbformat_minor": 0,
  "metadata": {
    "colab": {
      "provenance": [],
      "authorship_tag": "ABX9TyOBYje0NNkK9KPfu4kkwf+E"
    },
    "kernelspec": {
      "name": "python3",
      "display_name": "Python 3"
    },
    "language_info": {
      "name": "python"
    }
  },
  "cells": [
    {
      "cell_type": "markdown",
      "source": [
        "# **Load Libraries**"
      ],
      "metadata": {
        "id": "_gp5g2o25Ba0"
      }
    },
    {
      "cell_type": "code",
      "execution_count": null,
      "metadata": {
        "colab": {
          "base_uri": "https://localhost:8080/"
        },
        "id": "hqaeskOw43kL",
        "outputId": "b19af94f-1b51-488c-bfff-dc43711a0d2c"
      },
      "outputs": [
        {
          "output_type": "stream",
          "name": "stdout",
          "text": [
            "The tensorboard extension is already loaded. To reload it, use:\n",
            "  %reload_ext tensorboard\n"
          ]
        }
      ],
      "source": [
        "# Load the TensorBoard notebook extension.\n",
        "%load_ext tensorboard\n",
        "\n",
        "from datetime import datetime\n",
        "from packaging import version\n",
        "\n",
        "import numpy as np\n",
        "import matplotlib\n",
        "import matplotlib.pyplot as plt\n",
        "from sklearn import datasets\n",
        "from sklearn.model_selection import train_test_split, validation_curve\n",
        "from sklearn.metrics import confusion_matrix\n",
        "import seaborn as sns\n",
        "import tensorboard\n",
        "from tensorflow import keras\n",
        "from pandas import read_csv"
      ]
    },
    {
      "cell_type": "markdown",
      "source": [
        "To ensure we get reproducible results (on your local machine) we set the random seed for Python, Numpy and TensorFlow. This will ensure the SAME random initialization of weight matrices each tiem you execute your code. In Colab, results might not be reproducable."
      ],
      "metadata": {
        "id": "sVMWL_J05Y7P"
      }
    },
    {
      "cell_type": "code",
      "source": [
        "seed=1234\n",
        "import os\n",
        "os.environ['PYTHONHASHSEED'] = str(seed)\n",
        "# For working on GPUs from \"TensorFlow Determinism\"\n",
        "os.environ['CUDA_VISBLE_DEVICE'] = ''\n",
        "import numpy as np\n",
        "np.random.seed(seed)\n",
        "import random\n",
        "random.seed(seed)\n",
        "import tensorflow as tf\n",
        "tf.random.set_seed(seed)\n"
      ],
      "metadata": {
        "id": "ZRWrA9Uq5W43"
      },
      "execution_count": null,
      "outputs": []
    },
    {
      "cell_type": "markdown",
      "source": [
        "# **Import Data**"
      ],
      "metadata": {
        "id": "xEUp5WXm5cuz"
      }
    },
    {
      "cell_type": "code",
      "source": [
        "\n",
        "\n",
        "from google.colab import drive\n",
        "drive.mount('/content/drive')"
      ],
      "metadata": {
        "colab": {
          "base_uri": "https://localhost:8080/"
        },
        "id": "l3zpytMG5G58",
        "outputId": "fdab3dd5-7d27-4dcb-c2ec-b85426e3d44b"
      },
      "execution_count": null,
      "outputs": [
        {
          "output_type": "stream",
          "name": "stdout",
          "text": [
            "Mounted at /content/drive\n"
          ]
        }
      ]
    },
    {
      "cell_type": "markdown",
      "source": [
        "# **Dataset Info**\n",
        "\n",
        "https://archive.ics.uci.edu/dataset/240/human+activity+recognition+using+smartphones\n",
        "\n",
        "1. Sampled in fixed-width sliding windows of 2.56 sec and 50% overlap (128 readings/window).\n",
        "\n",
        "2. Three types of data across X, Y, and Z axis: total acceleration, body acceleration, and body gyroscope\n",
        "\n",
        " ==> Total 9 features per timestamp\n",
        "\n"
      ],
      "metadata": {
        "id": "0ClXeyk252kb"
      }
    },
    {
      "cell_type": "code",
      "source": [
        "## dstack operation in numpy\n",
        "## Stack arrays in sequence depth wise (along third axis).\n",
        "## https://numpy.org/doc/stable/reference/generated/numpy.dstack.html\n",
        "\n",
        "a = np.array((1,2,3))\n",
        "b = np.array((2,3,4))\n",
        "np.dstack((a,b))\n"
      ],
      "metadata": {
        "colab": {
          "base_uri": "https://localhost:8080/"
        },
        "id": "yr_qByLX6lkU",
        "outputId": "66823dd7-be7e-4784-e849-073fd59a95fa"
      },
      "execution_count": null,
      "outputs": [
        {
          "output_type": "execute_result",
          "data": {
            "text/plain": [
              "array([[[1, 2],\n",
              "        [2, 3],\n",
              "        [3, 4]]])"
            ]
          },
          "metadata": {},
          "execution_count": 6
        }
      ]
    },
    {
      "cell_type": "code",
      "source": [
        "## code adapted https://machinelearningmastery.com/how-to-develop-rnn-models-for-human-activity-recognition-time-series-classification/\n",
        "\n",
        "def load_file(filepath):\n",
        " dataframe = read_csv(filepath, header=None, delim_whitespace=True)\n",
        " return dataframe.values\n",
        "\n",
        "# load a list of files and return as a 3d numpy array\n",
        "def load_group(filenames, prefix=''):\n",
        " loaded = list()\n",
        " for name in filenames:\n",
        "   filepath = prefix + name\n",
        "   data = load_file(prefix + name)\n",
        "   loaded.append(data)\n",
        " # stack group so that features are the 3rd dimension\n",
        " loaded = np.dstack(loaded)\n",
        " return loaded"
      ],
      "metadata": {
        "id": "WUV2rTFH7mqm"
      },
      "execution_count": null,
      "outputs": []
    },
    {
      "cell_type": "code",
      "source": [
        "\n",
        "# load a dataset group, such as train or test\n",
        "def load_dataset_group(group, prefix=''):\n",
        " filepath = prefix + group + '/Inertial Signals/'\n",
        " # load all 9 files as a single array\n",
        " filenames = list()\n",
        " # total acceleration\n",
        " filenames += ['total_acc_x_'+group+'.txt', 'total_acc_y_'+group+'.txt', 'total_acc_z_'+group+'.txt']\n",
        " # body acceleration\n",
        " filenames += ['body_acc_x_'+group+'.txt', 'body_acc_y_'+group+'.txt', 'body_acc_z_'+group+'.txt']\n",
        " # body gyroscope\n",
        " filenames += ['body_gyro_x_'+group+'.txt', 'body_gyro_y_'+group+'.txt', 'body_gyro_z_'+group+'.txt']\n",
        " # load input data\n",
        " X = load_group(filenames, filepath)\n",
        " # load class output\n",
        " y = load_file(prefix + group + '/y_'+group+'.txt')\n",
        " return X, y"
      ],
      "metadata": {
        "id": "EdPrfD1B9gtO"
      },
      "execution_count": null,
      "outputs": []
    },
    {
      "cell_type": "code",
      "source": [
        "# load the dataset, returns train and test X and y elements\n",
        "def load_dataset(prefix=''):\n",
        " # load all train\n",
        " path = '/Your filepath/'\n",
        " trainX, trainy = load_dataset_group('train', prefix + path)\n",
        " print(trainX.shape, trainy.shape)\n",
        " # load all test\n",
        " testX, testy = load_dataset_group('test', prefix +path)\n",
        " print(testX.shape, testy.shape)\n",
        " # zero-offset class values\n",
        " trainy = trainy - 1\n",
        " testy = testy - 1\n",
        " print(\"Train X, Y and Test X, Y shapes\", trainX.shape, trainy.shape, testX.shape, testy.shape)\n",
        " return trainX, trainy, testX, testy"
      ],
      "metadata": {
        "id": "O_azVHD49iNr"
      },
      "execution_count": null,
      "outputs": []
    },
    {
      "cell_type": "code",
      "source": [
        "from tensorflow.keras.models import Sequential\n",
        "from tensorflow.keras.layers import Dense, Flatten, Dropout, LSTM\n",
        "\n",
        "\n",
        "def my_model(n_timesteps,n_features, n_outputs):\n",
        "\n",
        "  model = Sequential()\n",
        "  model.add(LSTM(100, input_shape=(n_timesteps,n_features)))\n",
        "  model.add(Dropout(0.5))\n",
        "  model.add(Dense(100, activation='relu'))\n",
        "  model.add(Dense(n_outputs, activation='softmax'))\n",
        "  model.compile(loss='sparse_categorical_crossentropy', optimizer='adam', metrics=['accuracy'])\n",
        "\n",
        "  print(model.summary())\n",
        "\n",
        "  return model\n"
      ],
      "metadata": {
        "id": "us78lLCn-FXL"
      },
      "execution_count": null,
      "outputs": []
    },
    {
      "cell_type": "code",
      "source": [
        "# load data\n",
        "all_trainX, all_trainy, testX, testy = load_dataset()\n",
        "\n",
        "trainX, valX, trainy, valy = train_test_split(all_trainX, all_trainy, test_size=0.2, random_state=32)\n",
        "\n",
        "n_timesteps, n_features, n_outputs = trainX.shape[1], trainX.shape[2], 6\n",
        "\n",
        "\n"
      ],
      "metadata": {
        "colab": {
          "base_uri": "https://localhost:8080/"
        },
        "id": "GBjJz8QGAmgu",
        "outputId": "1daf7fe6-ea46-443a-ee6b-7038b0b54f9a"
      },
      "execution_count": null,
      "outputs": [
        {
          "output_type": "stream",
          "name": "stderr",
          "text": [
            "<ipython-input-8-50cbb3008429>:4: FutureWarning: The 'delim_whitespace' keyword in pd.read_csv is deprecated and will be removed in a future version. Use ``sep='\\s+'`` instead\n",
            "  dataframe = read_csv(filepath, header=None, delim_whitespace=True)\n",
            "<ipython-input-8-50cbb3008429>:4: FutureWarning: The 'delim_whitespace' keyword in pd.read_csv is deprecated and will be removed in a future version. Use ``sep='\\s+'`` instead\n",
            "  dataframe = read_csv(filepath, header=None, delim_whitespace=True)\n",
            "<ipython-input-8-50cbb3008429>:4: FutureWarning: The 'delim_whitespace' keyword in pd.read_csv is deprecated and will be removed in a future version. Use ``sep='\\s+'`` instead\n",
            "  dataframe = read_csv(filepath, header=None, delim_whitespace=True)\n",
            "<ipython-input-8-50cbb3008429>:4: FutureWarning: The 'delim_whitespace' keyword in pd.read_csv is deprecated and will be removed in a future version. Use ``sep='\\s+'`` instead\n",
            "  dataframe = read_csv(filepath, header=None, delim_whitespace=True)\n",
            "<ipython-input-8-50cbb3008429>:4: FutureWarning: The 'delim_whitespace' keyword in pd.read_csv is deprecated and will be removed in a future version. Use ``sep='\\s+'`` instead\n",
            "  dataframe = read_csv(filepath, header=None, delim_whitespace=True)\n",
            "<ipython-input-8-50cbb3008429>:4: FutureWarning: The 'delim_whitespace' keyword in pd.read_csv is deprecated and will be removed in a future version. Use ``sep='\\s+'`` instead\n",
            "  dataframe = read_csv(filepath, header=None, delim_whitespace=True)\n",
            "<ipython-input-8-50cbb3008429>:4: FutureWarning: The 'delim_whitespace' keyword in pd.read_csv is deprecated and will be removed in a future version. Use ``sep='\\s+'`` instead\n",
            "  dataframe = read_csv(filepath, header=None, delim_whitespace=True)\n",
            "<ipython-input-8-50cbb3008429>:4: FutureWarning: The 'delim_whitespace' keyword in pd.read_csv is deprecated and will be removed in a future version. Use ``sep='\\s+'`` instead\n",
            "  dataframe = read_csv(filepath, header=None, delim_whitespace=True)\n",
            "<ipython-input-8-50cbb3008429>:4: FutureWarning: The 'delim_whitespace' keyword in pd.read_csv is deprecated and will be removed in a future version. Use ``sep='\\s+'`` instead\n",
            "  dataframe = read_csv(filepath, header=None, delim_whitespace=True)\n",
            "<ipython-input-8-50cbb3008429>:4: FutureWarning: The 'delim_whitespace' keyword in pd.read_csv is deprecated and will be removed in a future version. Use ``sep='\\s+'`` instead\n",
            "  dataframe = read_csv(filepath, header=None, delim_whitespace=True)\n",
            "<ipython-input-8-50cbb3008429>:4: FutureWarning: The 'delim_whitespace' keyword in pd.read_csv is deprecated and will be removed in a future version. Use ``sep='\\s+'`` instead\n",
            "  dataframe = read_csv(filepath, header=None, delim_whitespace=True)\n",
            "<ipython-input-8-50cbb3008429>:4: FutureWarning: The 'delim_whitespace' keyword in pd.read_csv is deprecated and will be removed in a future version. Use ``sep='\\s+'`` instead\n",
            "  dataframe = read_csv(filepath, header=None, delim_whitespace=True)\n"
          ]
        },
        {
          "output_type": "stream",
          "name": "stdout",
          "text": [
            "(7352, 128, 9) (7352, 1)\n"
          ]
        },
        {
          "output_type": "stream",
          "name": "stderr",
          "text": [
            "<ipython-input-8-50cbb3008429>:4: FutureWarning: The 'delim_whitespace' keyword in pd.read_csv is deprecated and will be removed in a future version. Use ``sep='\\s+'`` instead\n",
            "  dataframe = read_csv(filepath, header=None, delim_whitespace=True)\n",
            "<ipython-input-8-50cbb3008429>:4: FutureWarning: The 'delim_whitespace' keyword in pd.read_csv is deprecated and will be removed in a future version. Use ``sep='\\s+'`` instead\n",
            "  dataframe = read_csv(filepath, header=None, delim_whitespace=True)\n",
            "<ipython-input-8-50cbb3008429>:4: FutureWarning: The 'delim_whitespace' keyword in pd.read_csv is deprecated and will be removed in a future version. Use ``sep='\\s+'`` instead\n",
            "  dataframe = read_csv(filepath, header=None, delim_whitespace=True)\n",
            "<ipython-input-8-50cbb3008429>:4: FutureWarning: The 'delim_whitespace' keyword in pd.read_csv is deprecated and will be removed in a future version. Use ``sep='\\s+'`` instead\n",
            "  dataframe = read_csv(filepath, header=None, delim_whitespace=True)\n",
            "<ipython-input-8-50cbb3008429>:4: FutureWarning: The 'delim_whitespace' keyword in pd.read_csv is deprecated and will be removed in a future version. Use ``sep='\\s+'`` instead\n",
            "  dataframe = read_csv(filepath, header=None, delim_whitespace=True)\n",
            "<ipython-input-8-50cbb3008429>:4: FutureWarning: The 'delim_whitespace' keyword in pd.read_csv is deprecated and will be removed in a future version. Use ``sep='\\s+'`` instead\n",
            "  dataframe = read_csv(filepath, header=None, delim_whitespace=True)\n",
            "<ipython-input-8-50cbb3008429>:4: FutureWarning: The 'delim_whitespace' keyword in pd.read_csv is deprecated and will be removed in a future version. Use ``sep='\\s+'`` instead\n",
            "  dataframe = read_csv(filepath, header=None, delim_whitespace=True)\n",
            "<ipython-input-8-50cbb3008429>:4: FutureWarning: The 'delim_whitespace' keyword in pd.read_csv is deprecated and will be removed in a future version. Use ``sep='\\s+'`` instead\n",
            "  dataframe = read_csv(filepath, header=None, delim_whitespace=True)\n"
          ]
        },
        {
          "output_type": "stream",
          "name": "stdout",
          "text": [
            "(2947, 128, 9) (2947, 1)\n",
            "Train X, Y and Test X, Y shapes (7352, 128, 9) (7352, 1) (2947, 128, 9) (2947, 1)\n"
          ]
        }
      ]
    },
    {
      "cell_type": "code",
      "source": [
        "LSTM_model = my_model(n_timesteps, n_features, n_outputs)"
      ],
      "metadata": {
        "colab": {
          "base_uri": "https://localhost:8080/",
          "height": 369
        },
        "id": "nAXQDI4tBbG1",
        "outputId": "223bedbc-e147-450e-e313-6820af298782"
      },
      "execution_count": null,
      "outputs": [
        {
          "output_type": "stream",
          "name": "stderr",
          "text": [
            "/usr/local/lib/python3.10/dist-packages/keras/src/layers/rnn/rnn.py:204: UserWarning: Do not pass an `input_shape`/`input_dim` argument to a layer. When using Sequential models, prefer using an `Input(shape)` object as the first layer in the model instead.\n",
            "  super().__init__(**kwargs)\n"
          ]
        },
        {
          "output_type": "display_data",
          "data": {
            "text/plain": [
              "\u001b[1mModel: \"sequential_4\"\u001b[0m\n"
            ],
            "text/html": [
              "<pre style=\"white-space:pre;overflow-x:auto;line-height:normal;font-family:Menlo,'DejaVu Sans Mono',consolas,'Courier New',monospace\"><span style=\"font-weight: bold\">Model: \"sequential_4\"</span>\n",
              "</pre>\n"
            ]
          },
          "metadata": {}
        },
        {
          "output_type": "display_data",
          "data": {
            "text/plain": [
              "┏━━━━━━━━━━━━━━━━━━━━━━━━━━━━━━━━━━━━━━┳━━━━━━━━━━━━━━━━━━━━━━━━━━━━━┳━━━━━━━━━━━━━━━━━┓\n",
              "┃\u001b[1m \u001b[0m\u001b[1mLayer (type)                        \u001b[0m\u001b[1m \u001b[0m┃\u001b[1m \u001b[0m\u001b[1mOutput Shape               \u001b[0m\u001b[1m \u001b[0m┃\u001b[1m \u001b[0m\u001b[1m        Param #\u001b[0m\u001b[1m \u001b[0m┃\n",
              "┡━━━━━━━━━━━━━━━━━━━━━━━━━━━━━━━━━━━━━━╇━━━━━━━━━━━━━━━━━━━━━━━━━━━━━╇━━━━━━━━━━━━━━━━━┩\n",
              "│ lstm_4 (\u001b[38;5;33mLSTM\u001b[0m)                        │ (\u001b[38;5;45mNone\u001b[0m, \u001b[38;5;34m100\u001b[0m)                 │          \u001b[38;5;34m44,000\u001b[0m │\n",
              "├──────────────────────────────────────┼─────────────────────────────┼─────────────────┤\n",
              "│ dropout_4 (\u001b[38;5;33mDropout\u001b[0m)                  │ (\u001b[38;5;45mNone\u001b[0m, \u001b[38;5;34m100\u001b[0m)                 │               \u001b[38;5;34m0\u001b[0m │\n",
              "├──────────────────────────────────────┼─────────────────────────────┼─────────────────┤\n",
              "│ dense_8 (\u001b[38;5;33mDense\u001b[0m)                      │ (\u001b[38;5;45mNone\u001b[0m, \u001b[38;5;34m100\u001b[0m)                 │          \u001b[38;5;34m10,100\u001b[0m │\n",
              "├──────────────────────────────────────┼─────────────────────────────┼─────────────────┤\n",
              "│ dense_9 (\u001b[38;5;33mDense\u001b[0m)                      │ (\u001b[38;5;45mNone\u001b[0m, \u001b[38;5;34m6\u001b[0m)                   │             \u001b[38;5;34m606\u001b[0m │\n",
              "└──────────────────────────────────────┴─────────────────────────────┴─────────────────┘\n"
            ],
            "text/html": [
              "<pre style=\"white-space:pre;overflow-x:auto;line-height:normal;font-family:Menlo,'DejaVu Sans Mono',consolas,'Courier New',monospace\">┏━━━━━━━━━━━━━━━━━━━━━━━━━━━━━━━━━━━━━━┳━━━━━━━━━━━━━━━━━━━━━━━━━━━━━┳━━━━━━━━━━━━━━━━━┓\n",
              "┃<span style=\"font-weight: bold\"> Layer (type)                         </span>┃<span style=\"font-weight: bold\"> Output Shape                </span>┃<span style=\"font-weight: bold\">         Param # </span>┃\n",
              "┡━━━━━━━━━━━━━━━━━━━━━━━━━━━━━━━━━━━━━━╇━━━━━━━━━━━━━━━━━━━━━━━━━━━━━╇━━━━━━━━━━━━━━━━━┩\n",
              "│ lstm_4 (<span style=\"color: #0087ff; text-decoration-color: #0087ff\">LSTM</span>)                        │ (<span style=\"color: #00d7ff; text-decoration-color: #00d7ff\">None</span>, <span style=\"color: #00af00; text-decoration-color: #00af00\">100</span>)                 │          <span style=\"color: #00af00; text-decoration-color: #00af00\">44,000</span> │\n",
              "├──────────────────────────────────────┼─────────────────────────────┼─────────────────┤\n",
              "│ dropout_4 (<span style=\"color: #0087ff; text-decoration-color: #0087ff\">Dropout</span>)                  │ (<span style=\"color: #00d7ff; text-decoration-color: #00d7ff\">None</span>, <span style=\"color: #00af00; text-decoration-color: #00af00\">100</span>)                 │               <span style=\"color: #00af00; text-decoration-color: #00af00\">0</span> │\n",
              "├──────────────────────────────────────┼─────────────────────────────┼─────────────────┤\n",
              "│ dense_8 (<span style=\"color: #0087ff; text-decoration-color: #0087ff\">Dense</span>)                      │ (<span style=\"color: #00d7ff; text-decoration-color: #00d7ff\">None</span>, <span style=\"color: #00af00; text-decoration-color: #00af00\">100</span>)                 │          <span style=\"color: #00af00; text-decoration-color: #00af00\">10,100</span> │\n",
              "├──────────────────────────────────────┼─────────────────────────────┼─────────────────┤\n",
              "│ dense_9 (<span style=\"color: #0087ff; text-decoration-color: #0087ff\">Dense</span>)                      │ (<span style=\"color: #00d7ff; text-decoration-color: #00d7ff\">None</span>, <span style=\"color: #00af00; text-decoration-color: #00af00\">6</span>)                   │             <span style=\"color: #00af00; text-decoration-color: #00af00\">606</span> │\n",
              "└──────────────────────────────────────┴─────────────────────────────┴─────────────────┘\n",
              "</pre>\n"
            ]
          },
          "metadata": {}
        },
        {
          "output_type": "display_data",
          "data": {
            "text/plain": [
              "\u001b[1m Total params: \u001b[0m\u001b[38;5;34m54,706\u001b[0m (213.70 KB)\n"
            ],
            "text/html": [
              "<pre style=\"white-space:pre;overflow-x:auto;line-height:normal;font-family:Menlo,'DejaVu Sans Mono',consolas,'Courier New',monospace\"><span style=\"font-weight: bold\"> Total params: </span><span style=\"color: #00af00; text-decoration-color: #00af00\">54,706</span> (213.70 KB)\n",
              "</pre>\n"
            ]
          },
          "metadata": {}
        },
        {
          "output_type": "display_data",
          "data": {
            "text/plain": [
              "\u001b[1m Trainable params: \u001b[0m\u001b[38;5;34m54,706\u001b[0m (213.70 KB)\n"
            ],
            "text/html": [
              "<pre style=\"white-space:pre;overflow-x:auto;line-height:normal;font-family:Menlo,'DejaVu Sans Mono',consolas,'Courier New',monospace\"><span style=\"font-weight: bold\"> Trainable params: </span><span style=\"color: #00af00; text-decoration-color: #00af00\">54,706</span> (213.70 KB)\n",
              "</pre>\n"
            ]
          },
          "metadata": {}
        },
        {
          "output_type": "display_data",
          "data": {
            "text/plain": [
              "\u001b[1m Non-trainable params: \u001b[0m\u001b[38;5;34m0\u001b[0m (0.00 B)\n"
            ],
            "text/html": [
              "<pre style=\"white-space:pre;overflow-x:auto;line-height:normal;font-family:Menlo,'DejaVu Sans Mono',consolas,'Courier New',monospace\"><span style=\"font-weight: bold\"> Non-trainable params: </span><span style=\"color: #00af00; text-decoration-color: #00af00\">0</span> (0.00 B)\n",
              "</pre>\n"
            ]
          },
          "metadata": {}
        },
        {
          "output_type": "stream",
          "name": "stdout",
          "text": [
            "None\n"
          ]
        }
      ]
    },
    {
      "cell_type": "code",
      "source": [
        "# Define the Keras TensorBoard callback.\n",
        "logdir=\"logs/fit/\" + datetime.now().strftime(\"%Y%m%d-%H%M%S\")\n",
        "tensorboard_callback = keras.callbacks.TensorBoard(log_dir=logdir)\n",
        "## With Early stopping\n",
        "es_callback = tf.keras.callbacks.EarlyStopping(monitor='val_loss', patience=5)\n",
        "\n",
        "### captures the training and validation loss in each epoch. This will be used to plot and visualize\n",
        "history = LSTM_model.fit(trainX, trainy, validation_data=(valX, valy), batch_size= 128, epochs= 15, callbacks=[tensorboard_callback, es_callback])"
      ],
      "metadata": {
        "colab": {
          "base_uri": "https://localhost:8080/"
        },
        "id": "NFlZw6mRDhlL",
        "outputId": "b17903da-4d9a-4837-d88a-a11b69c19f2e"
      },
      "execution_count": null,
      "outputs": [
        {
          "output_type": "stream",
          "name": "stdout",
          "text": [
            "Epoch 1/15\n",
            "\u001b[1m46/46\u001b[0m \u001b[32m━━━━━━━━━━━━━━━━━━━━\u001b[0m\u001b[37m\u001b[0m \u001b[1m14s\u001b[0m 295ms/step - accuracy: 0.7532 - loss: 0.5773 - val_accuracy: 0.7920 - val_loss: 0.5273\n",
            "Epoch 2/15\n",
            "\u001b[1m46/46\u001b[0m \u001b[32m━━━━━━━━━━━━━━━━━━━━\u001b[0m\u001b[37m\u001b[0m \u001b[1m21s\u001b[0m 305ms/step - accuracy: 0.7939 - loss: 0.5857 - val_accuracy: 0.7308 - val_loss: 0.6923\n",
            "Epoch 3/15\n",
            "\u001b[1m46/46\u001b[0m \u001b[32m━━━━━━━━━━━━━━━━━━━━\u001b[0m\u001b[37m\u001b[0m \u001b[1m19s\u001b[0m 274ms/step - accuracy: 0.7520 - loss: 0.6030 - val_accuracy: 0.8688 - val_loss: 0.3904\n",
            "Epoch 4/15\n",
            "\u001b[1m46/46\u001b[0m \u001b[32m━━━━━━━━━━━━━━━━━━━━\u001b[0m\u001b[37m\u001b[0m \u001b[1m26s\u001b[0m 411ms/step - accuracy: 0.8529 - loss: 0.4062 - val_accuracy: 0.9137 - val_loss: 0.2616\n",
            "Epoch 5/15\n",
            "\u001b[1m46/46\u001b[0m \u001b[32m━━━━━━━━━━━━━━━━━━━━\u001b[0m\u001b[37m\u001b[0m \u001b[1m17s\u001b[0m 332ms/step - accuracy: 0.9035 - loss: 0.3043 - val_accuracy: 0.9341 - val_loss: 0.2010\n",
            "Epoch 6/15\n",
            "\u001b[1m46/46\u001b[0m \u001b[32m━━━━━━━━━━━━━━━━━━━━\u001b[0m\u001b[37m\u001b[0m \u001b[1m23s\u001b[0m 382ms/step - accuracy: 0.9110 - loss: 0.2522 - val_accuracy: 0.9429 - val_loss: 0.1787\n",
            "Epoch 7/15\n",
            "\u001b[1m46/46\u001b[0m \u001b[32m━━━━━━━━━━━━━━━━━━━━\u001b[0m\u001b[37m\u001b[0m \u001b[1m17s\u001b[0m 297ms/step - accuracy: 0.9351 - loss: 0.1939 - val_accuracy: 0.9449 - val_loss: 0.1743\n",
            "Epoch 8/15\n",
            "\u001b[1m46/46\u001b[0m \u001b[32m━━━━━━━━━━━━━━━━━━━━\u001b[0m\u001b[37m\u001b[0m \u001b[1m20s\u001b[0m 292ms/step - accuracy: 0.9387 - loss: 0.1902 - val_accuracy: 0.9524 - val_loss: 0.1420\n",
            "Epoch 9/15\n",
            "\u001b[1m46/46\u001b[0m \u001b[32m━━━━━━━━━━━━━━━━━━━━\u001b[0m\u001b[37m\u001b[0m \u001b[1m15s\u001b[0m 325ms/step - accuracy: 0.9355 - loss: 0.1815 - val_accuracy: 0.9449 - val_loss: 0.1459\n",
            "Epoch 10/15\n",
            "\u001b[1m46/46\u001b[0m \u001b[32m━━━━━━━━━━━━━━━━━━━━\u001b[0m\u001b[37m\u001b[0m \u001b[1m18s\u001b[0m 269ms/step - accuracy: 0.9427 - loss: 0.1608 - val_accuracy: 0.9531 - val_loss: 0.1385\n",
            "Epoch 11/15\n",
            "\u001b[1m46/46\u001b[0m \u001b[32m━━━━━━━━━━━━━━━━━━━━\u001b[0m\u001b[37m\u001b[0m \u001b[1m14s\u001b[0m 312ms/step - accuracy: 0.9459 - loss: 0.1506 - val_accuracy: 0.9497 - val_loss: 0.1507\n",
            "Epoch 12/15\n",
            "\u001b[1m46/46\u001b[0m \u001b[32m━━━━━━━━━━━━━━━━━━━━\u001b[0m\u001b[37m\u001b[0m \u001b[1m19s\u001b[0m 277ms/step - accuracy: 0.9491 - loss: 0.1407 - val_accuracy: 0.9538 - val_loss: 0.1341\n",
            "Epoch 13/15\n",
            "\u001b[1m46/46\u001b[0m \u001b[32m━━━━━━━━━━━━━━━━━━━━\u001b[0m\u001b[37m\u001b[0m \u001b[1m22s\u001b[0m 301ms/step - accuracy: 0.9309 - loss: 0.1884 - val_accuracy: 0.9388 - val_loss: 0.2013\n",
            "Epoch 14/15\n",
            "\u001b[1m46/46\u001b[0m \u001b[32m━━━━━━━━━━━━━━━━━━━━\u001b[0m\u001b[37m\u001b[0m \u001b[1m14s\u001b[0m 294ms/step - accuracy: 0.9292 - loss: 0.2128 - val_accuracy: 0.9477 - val_loss: 0.1466\n",
            "Epoch 15/15\n",
            "\u001b[1m46/46\u001b[0m \u001b[32m━━━━━━━━━━━━━━━━━━━━\u001b[0m\u001b[37m\u001b[0m \u001b[1m21s\u001b[0m 304ms/step - accuracy: 0.9436 - loss: 0.1482 - val_accuracy: 0.9449 - val_loss: 0.1339\n"
          ]
        }
      ]
    },
    {
      "cell_type": "code",
      "source": [
        "#Plot history\n",
        "plt.plot(history.history['accuracy'])\n",
        "plt.plot(history.history['val_accuracy'])\n",
        "plt.title('model accuracy')\n",
        "plt.ylabel('accuracy')\n",
        "plt.xlabel('epoch')\n",
        "plt.legend(['train', 'val'], loc='upper left')\n",
        "plt.show()"
      ],
      "metadata": {
        "colab": {
          "base_uri": "https://localhost:8080/",
          "height": 472
        },
        "id": "P83ccazoFl8M",
        "outputId": "c35ff9b3-fc1f-43fb-9fdb-25edae797ae1"
      },
      "execution_count": null,
      "outputs": [
        {
          "output_type": "display_data",
          "data": {
            "text/plain": [
              "<Figure size 640x480 with 1 Axes>"
            ],
            "image/png": "[encoded data removed]"
          },
          "metadata": {}
        }
      ]
    },
    {
      "cell_type": "code",
      "source": [
        "from sklearn import metrics\n",
        "# Evaluate\n",
        "score = LSTM_model.evaluate(testX, testy)\n",
        "print('Test loss:', score[0])\n",
        "print('Test accuracy:', score[1])"
      ],
      "metadata": {
        "colab": {
          "base_uri": "https://localhost:8080/"
        },
        "id": "Q3S4wt7NFYHW",
        "outputId": "6a28844c-65b7-4868-bb2a-0678db30ee8a"
      },
      "execution_count": null,
      "outputs": [
        {
          "output_type": "stream",
          "name": "stdout",
          "text": [
            "\u001b[1m93/93\u001b[0m \u001b[32m━━━━━━━━━━━━━━━━━━━━\u001b[0m\u001b[37m\u001b[0m \u001b[1m3s\u001b[0m 35ms/step - accuracy: 0.8653 - loss: 0.3179\n",
            "Test loss: 0.26115694642066956\n",
            "Test accuracy: 0.9009161591529846\n"
          ]
        }
      ]
    }
  ]
}